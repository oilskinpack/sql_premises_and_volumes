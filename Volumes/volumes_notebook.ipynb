{
 "cells": [
  {
   "cell_type": "code",
   "execution_count": null,
   "id": "dc70c42f",
   "metadata": {},
   "outputs": [],
   "source": [
    "import os\n",
    "import sys\n",
    "sys.path.insert(1, r'D:\\Khabarov\\Репозиторий\\sql_premises_and_volumes')\n",
    "from Helpers.ParamsAndFuns import ParamsAndFuns as p\n",
    "import numpy as np\n",
    "import pandas as pd\n",
    "from Helpers.VolumesHelper import VolumesHelper\n",
    "p.set_np_pd_opts()\n",
    "\n",
    "\n",
    "source_path = r'D:\\Khabarov\\Репозиторий\\sql_premises_and_volumes\\SourceData\\ИсходныеДанные.xlsx' #Здесь укажи путь к табл\n",
    "volHel = VolumesHelper(source_path=source_path)\n",
    "dfFull = volHel.fullDf\n",
    "\n",
    "#=====Запусти для загрузки данных====="
   ]
  },
  {
   "cell_type": "code",
   "execution_count": null,
   "id": "3260980b",
   "metadata": {},
   "outputs": [],
   "source": [
    "#=====Запусти для выгрузки номенклатуры=====\n",
    "directory = r'D:\\Khabarov\\Репозиторий\\sql_premises_and_volumes\\Data'\n",
    "volHel.save_nomenclature(source_path=source_path,directory=directory)"
   ]
  }
 ],
 "metadata": {
  "kernelspec": {
   "display_name": "base",
   "language": "python",
   "name": "python3"
  },
  "language_info": {
   "codemirror_mode": {
    "name": "ipython",
    "version": 3
   },
   "file_extension": ".py",
   "mimetype": "text/x-python",
   "name": "python",
   "nbconvert_exporter": "python",
   "pygments_lexer": "ipython3",
   "version": "3.11.7"
  }
 },
 "nbformat": 4,
 "nbformat_minor": 5
}
