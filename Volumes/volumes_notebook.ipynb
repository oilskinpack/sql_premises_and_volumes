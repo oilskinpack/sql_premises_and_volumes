{
 "cells": [
  {
   "cell_type": "code",
   "execution_count": 1,
   "id": "dc70c42f",
   "metadata": {},
   "outputs": [
    {
     "name": "stdout",
     "output_type": "stream",
     "text": [
      "Подключено\n",
      "Затраченное время: 53.613813400268555, вес: 0.85 МБайт\n"
     ]
    }
   ],
   "source": [
    "import os\n",
    "import sys\n",
    "sys.path.insert(1, r'D:\\Khabarov\\Репозиторий\\sql_premises_and_volumes')\n",
    "from Helpers.ParamsAndFuns import ParamsAndFuns as p\n",
    "import numpy as np\n",
    "import pandas as pd\n",
    "from Helpers.VolumesHelper import VolumesHelper\n",
    "p.set_np_pd_opts()\n",
    "\n",
    "\n",
    "source_path = r'D:\\Khabarov\\Репозиторий\\sql_premises_and_volumes\\SourceData\\ИсходныеДанные.xlsx' #Здесь укажи путь к табл\n",
    "volHel = VolumesHelper(source_path=source_path)\n",
    "dfFull = volHel.fullDf\n",
    "\n",
    "#=====Запусти для загрузки данных====="
   ]
  },
  {
   "cell_type": "code",
   "execution_count": 2,
   "id": "3260980b",
   "metadata": {},
   "outputs": [
    {
     "name": "stdout",
     "output_type": "stream",
     "text": [
      "Выгрузка номенклатуры прошла успешно\n"
     ]
    },
    {
     "name": "stderr",
     "output_type": "stream",
     "text": [
      "d:\\Khabarov\\Anaconda\\Lib\\site-packages\\openpyxl\\workbook\\child.py:99: UserWarning: Title is more than 31 characters. Some applications may not be able to read the file\n",
      "  warnings.warn(\"Title is more than 31 characters. Some applications may not be able to read the file\")\n",
      "d:\\Khabarov\\Anaconda\\Lib\\site-packages\\openpyxl\\workbook\\child.py:99: UserWarning: Title is more than 31 characters. Some applications may not be able to read the file\n",
      "  warnings.warn(\"Title is more than 31 characters. Some applications may not be able to read the file\")\n",
      "d:\\Khabarov\\Anaconda\\Lib\\site-packages\\openpyxl\\workbook\\child.py:99: UserWarning: Title is more than 31 characters. Some applications may not be able to read the file\n",
      "  warnings.warn(\"Title is more than 31 characters. Some applications may not be able to read the file\")\n"
     ]
    }
   ],
   "source": [
    "#=====Запусти для выгрузки номенклатуры=====\n",
    "directory = r'D:\\Khabarov\\Репозиторий\\sql_premises_and_volumes\\Data'\n",
    "volHel.save_nomenclature(source_path=source_path,directory=directory)"
   ]
  },
  {
   "cell_type": "code",
   "execution_count": null,
   "id": "483aaca1",
   "metadata": {},
   "outputs": [],
   "source": []
  }
 ],
 "metadata": {
  "kernelspec": {
   "display_name": "base",
   "language": "python",
   "name": "python3"
  },
  "language_info": {
   "codemirror_mode": {
    "name": "ipython",
    "version": 3
   },
   "file_extension": ".py",
   "mimetype": "text/x-python",
   "name": "python",
   "nbconvert_exporter": "python",
   "pygments_lexer": "ipython3",
   "version": "3.11.7"
  }
 },
 "nbformat": 4,
 "nbformat_minor": 5
}
